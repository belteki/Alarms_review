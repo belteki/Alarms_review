{
 "cells": [
  {
   "cell_type": "markdown",
   "metadata": {},
   "source": [
    "![alt text](pageheader_rose2_babies.jpg)"
   ]
  },
  {
   "cell_type": "markdown",
   "metadata": {},
   "source": [
    "# Notebook to produce publication quality graphs for the alarm review paper"
   ]
  },
  {
   "cell_type": "markdown",
   "metadata": {},
   "source": [
    "Author: Gusztav Belteki MD, PhD, FRCPCH\n",
    "\n",
    "Contact: gbelteki@aol.com"
   ]
  },
  {
   "cell_type": "markdown",
   "metadata": {},
   "source": [
    "This Notebook contains the code to generate the images of this paper: Mitra N, Belteki G. __Fifteen-minute consultation: How to interpret and manage ventilator alarms in the neonatal intensive care unit.__ _Arch Dis Child Educ Pract Ed._ 2020 Oct 13:edpract-2019-318242. doi: 10.1136/archdischild-2019-318242. Epub ahead of print. PMID: 33051186.\n",
    "\n",
    "The paper is available here (full text requires access to the journal): [link](https://ep.bmj.com/content/early/2020/10/13/archdischild-2019-318242)\n",
    "\n",
    "The outputs (numbers, tables, graphs) of this Notebook have been suppressed to comply with copyrights. The corresponding data and graphs can be found in the paper."
   ]
  },
  {
   "cell_type": "markdown",
   "metadata": {},
   "source": [
    "#### Author: Dr Gusztav Belteki"
   ]
  },
  {
   "cell_type": "markdown",
   "metadata": {},
   "source": [
    "### Importing the required libraries and setting options"
   ]
  },
  {
   "cell_type": "code",
   "execution_count": null,
   "metadata": {},
   "outputs": [],
   "source": [
    "import IPython\n",
    "import pandas as pd\n",
    "import numpy as np\n",
    "import matplotlib\n",
    "import matplotlib.pyplot as plt\n",
    "import os\n",
    "import sys\n",
    "import pickle\n",
    "import scipy as sp\n",
    "from scipy import stats\n",
    "from pandas import Series, DataFrame\n",
    "from pandas.plotting import register_matplotlib_converters\n",
    "register_matplotlib_converters()\n",
    "from matplotlib import dates\n",
    "from datetime import datetime, timedelta\n",
    "from collections import defaultdict\n",
    "\n",
    "%matplotlib inline\n",
    "\n",
    "matplotlib.style.use('classic')\n",
    "matplotlib.rcParams['figure.facecolor'] = 'w'\n",
    "\n",
    "pd.set_option('display.max_rows', 100)\n",
    "pd.set_option('display.max_columns', 100)\n",
    "pd.set_option('mode.chained_assignment', None)"
   ]
  },
  {
   "cell_type": "code",
   "execution_count": null,
   "metadata": {},
   "outputs": [],
   "source": [
    "print(\"Python version: {}\".format(sys.version))\n",
    "print(\"IPython version: {}\".format(IPython.__version__))\n",
    "print(\"pandas version: {}\".format(pd.__version__))\n",
    "print(\"matplotlib version: {}\".format(matplotlib.__version__))\n",
    "print(\"NumPy version: {}\".format(np.__version__))\n",
    "print(\"SciPy version: {}\".format(sp.__version__))"
   ]
  },
  {
   "cell_type": "markdown",
   "metadata": {},
   "source": [
    "### Import modules containing own functions"
   ]
  },
  {
   "cell_type": "code",
   "execution_count": null,
   "metadata": {},
   "outputs": [],
   "source": [
    "from gb_loader import *\n",
    "from gb_stats import *\n",
    "from gb_transform import *"
   ]
  },
  {
   "cell_type": "markdown",
   "metadata": {},
   "source": [
    "### List and set the working directory and the directories to write out data"
   ]
  },
  {
   "cell_type": "code",
   "execution_count": null,
   "metadata": {},
   "outputs": [],
   "source": [
    "# Topic of the Notebook which will also be the name of the subfolder containing results\n",
    "TOPIC = 'alarms_review'\n",
    "\n",
    "# Name of the external hard drive\n",
    "DRIVE = 'GUSZTI'\n",
    "\n",
    "# Directory containing clinical and blood gas data\n",
    "CWD = '/Users/guszti/ventilation_draeger'\n",
    "\n",
    "# Directory on external drive to read the ventilation data from\n",
    "DIR_READ = '/Volumes/%s/Draeger/service_evaluation_old' % DRIVE\n",
    "\n",
    "# Directory to write results and selected images to \n",
    "if not os.path.isdir('%s/%s/%s' % (CWD, 'Analyses', TOPIC)):\n",
    "    os.makedirs('%s/%s/%s' % (CWD, 'Analyses', TOPIC))\n",
    "DIR_WRITE = '%s/%s/%s' % (CWD, 'Analyses', TOPIC)\n",
    "\n",
    "# Images and raw data will be written on an external hard drive\n",
    "if not os.path.isdir('/Volumes/%s/data_dump/draeger/%s' % (DRIVE, TOPIC)):\n",
    "    os.makedirs('/Volumes/%s/data_dump/draeger/%s' % (DRIVE, TOPIC))\n",
    "DATA_DUMP = '/Volumes/%s/data_dump/draeger/%s' % (DRIVE, TOPIC)"
   ]
  },
  {
   "cell_type": "code",
   "execution_count": null,
   "metadata": {},
   "outputs": [],
   "source": [
    "os.chdir(CWD)\n",
    "os.getcwd()"
   ]
  },
  {
   "cell_type": "code",
   "execution_count": null,
   "metadata": {},
   "outputs": [],
   "source": [
    "DIR_READ, DIR_WRITE, DATA_DUMP"
   ]
  },
  {
   "cell_type": "markdown",
   "metadata": {},
   "source": [
    "### List of the  recordings"
   ]
  },
  {
   "cell_type": "code",
   "execution_count": null,
   "metadata": {},
   "outputs": [],
   "source": [
    "# One recording from each patient, all of them 24 hours old or longer\n",
    "# The sub folders containing the individual recordings have the same names within cwd\n",
    "\n",
    "recordings = ['DG030', 'DG035', 'DG044']"
   ]
  },
  {
   "cell_type": "markdown",
   "metadata": {},
   "source": [
    "### Import clinical details"
   ]
  },
  {
   "cell_type": "code",
   "execution_count": null,
   "metadata": {},
   "outputs": [],
   "source": [
    "# Clinical details of the both service evaluation\n",
    "clinical_details = pd.read_excel('/Users/guszti/ventilation_draeger/service_evaluation_patient_data.xlsx')\n",
    "clinical_details.index = clinical_details['Recording']\n",
    "\n",
    "# Limit clinical details to the second service evaluation\n",
    "clinical_details = clinical_details.loc[recordings]\n",
    "\n",
    "clinical_details.info()"
   ]
  },
  {
   "cell_type": "code",
   "execution_count": null,
   "metadata": {},
   "outputs": [],
   "source": [
    "current_weights = {}\n",
    "for recording in recordings:\n",
    "    current_weights[recording] = clinical_details.loc[recording, 'Current weight' ] / 1000"
   ]
  },
  {
   "cell_type": "markdown",
   "metadata": {},
   "source": [
    "### Import ventilator parameters retrieved with 1/sec frequency"
   ]
  },
  {
   "cell_type": "code",
   "execution_count": null,
   "metadata": {
    "scrolled": false
   },
   "outputs": [],
   "source": [
    "slow_measurements = {}\n",
    "\n",
    "for recording in recordings:\n",
    "    flist = os.listdir('%s/%s' % (DIR_READ, recording))\n",
    "    flist = [file for file in flist if not file.startswith('.')] # There are some hidden \n",
    "    # files on the hard drive starting with '.'; this step is necessary to ignore them\n",
    "    files = slow_measurement_finder(flist)\n",
    "    print('Loading recording %s' % recording)\n",
    "    print(files)\n",
    "    fnames = ['%s/%s/%s' % (DIR_READ, recording, filename) for filename in files]\n",
    "    slow_measurements[recording] =  data_loader(fnames)"
   ]
  },
  {
   "cell_type": "markdown",
   "metadata": {},
   "source": [
    "### Calculating parameters / body weight kg"
   ]
  },
  {
   "cell_type": "code",
   "execution_count": null,
   "metadata": {
    "scrolled": true
   },
   "outputs": [],
   "source": [
    "for recording in recordings:\n",
    "    try:\n",
    "        a = slow_measurements[recording]\n",
    "        a['VT_kg']       = a['5001|VT [mL]'] / current_weights[recording]\n",
    "        a['VTi_kg']      = a['5001|VTi [mL]'] / current_weights[recording]\n",
    "        a['VTe_kg']      = a['5001|VTe [mL]'] / current_weights[recording]\n",
    "        a['VTmand_kg']   = a['5001|VTmand [mL]'] / current_weights[recording]\n",
    "        a['VTspon_kg']   = a['5001|VTspon [mL]'] / current_weights[recording]\n",
    "        a['VTimand_kg']  = a['5001|VTimand [mL]'] / current_weights[recording]\n",
    "        a['VTemand_kg']  = a['5001|VTemand [mL]'] / current_weights[recording]\n",
    "        a['VTispon_kg']  = a['5001|VTispon [mL]'] / current_weights[recording]\n",
    "        a['VTespon_kg']  = a['5001|VTespon [mL]'] / current_weights[recording]\n",
    "    except KeyError:\n",
    "        # print('%s does not have all of the parameters' % recording)\n",
    "        pass"
   ]
  },
  {
   "cell_type": "code",
   "execution_count": null,
   "metadata": {},
   "outputs": [],
   "source": [
    "for recording in recordings:\n",
    "    try:\n",
    "        a = slow_measurements[recording]\n",
    "        a['VThf_kg']      = a['5001|VThf [mL]'] / current_weights[recording]\n",
    "        a['DCO2_corr_kg'] = a['5001|DCO2 [10*mL^2/s]'] * 10 / (current_weights[recording]) ** 2\n",
    "    except KeyError:\n",
    "        # print('%s does not have all of the parameters' % recording)\n",
    "        pass"
   ]
  },
  {
   "cell_type": "code",
   "execution_count": null,
   "metadata": {
    "scrolled": true
   },
   "outputs": [],
   "source": [
    "for recording in recordings:\n",
    "    try:\n",
    "        a = slow_measurements[recording]\n",
    "        a['MV_kg'] =      a['5001|MV [L/min]'] / current_weights[recording]\n",
    "        a['MVi_kg'] =     a['5001|MVi [L/min]'] / current_weights[recording]\n",
    "        a['MVe_kg'] =     a['5001|MVe [L/min]'] / current_weights[recording]\n",
    "        a['MVemand_kg'] = a['5001|MVemand [L/min]'] / current_weights[recording]\n",
    "        a['MVespon_kg'] = a['5001|MVespon [L/min]'] / current_weights[recording]\n",
    "        a['MVleak_kg'] =  a['5001|MVleak [L/min]'] / current_weights[recording]\n",
    "    except KeyError:\n",
    "        # print('%s does not have all of the parameters' % recording)\n",
    "        pass"
   ]
  },
  {
   "cell_type": "markdown",
   "metadata": {
    "collapsed": true
   },
   "source": [
    "### Resampling to remove half-empty rows"
   ]
  },
  {
   "cell_type": "code",
   "execution_count": null,
   "metadata": {},
   "outputs": [],
   "source": [
    "%%time\n",
    "\n",
    "# 1/sec data are retrieved in two parts which need to be joined\n",
    "# This resampling steps combines the two parts\n",
    "\n",
    "for recording in recordings:\n",
    "    slow_measurements[recording] = slow_measurements[recording].resample('1S').mean()"
   ]
  },
  {
   "cell_type": "markdown",
   "metadata": {},
   "source": [
    "### Calculate recording durations"
   ]
  },
  {
   "cell_type": "code",
   "execution_count": null,
   "metadata": {},
   "outputs": [],
   "source": [
    "# Time stamps are obtained from 'slow measurements' \n",
    "\n",
    "recording_duration = {}\n",
    "for recording in recordings:\n",
    "    recording_duration[recording] = slow_measurements[recording].index[-1] - slow_measurements[recording].index[0]"
   ]
  },
  {
   "cell_type": "code",
   "execution_count": null,
   "metadata": {},
   "outputs": [],
   "source": [
    "recording_duration_seconds = {}\n",
    "recording_duration_hours = {}\n",
    "\n",
    "for recording in recordings:\n",
    "    temp = recording_duration[recording]\n",
    "    recording_duration_seconds[recording] = temp.total_seconds()\n",
    "    recording_duration_hours[recording] = temp.total_seconds() / 3600"
   ]
  },
  {
   "cell_type": "markdown",
   "metadata": {},
   "source": [
    "### Import ventilator modes and settings"
   ]
  },
  {
   "cell_type": "markdown",
   "metadata": {},
   "source": [
    "##### Import ventilation settings"
   ]
  },
  {
   "cell_type": "code",
   "execution_count": null,
   "metadata": {},
   "outputs": [],
   "source": [
    "vent_settings = {}\n",
    "\n",
    "for recording in recordings:\n",
    "    flist = os.listdir('%s/%s' % (DIR_READ, recording))\n",
    "    flist = [file for file in flist if not file.startswith('.')] # There are some hidden \n",
    "    # files on the hard drive starting with '.'; this step is necessary to ignore them\n",
    "    files = slow_setting_finder(flist)\n",
    "    # print('Loading recording %s' % recording)\n",
    "    # print(files)\n",
    "    fnames = ['%s/%s/%s' % (DIR_READ, recording, filename) for filename in files]\n",
    "    vent_settings[recording] =  data_loader(fnames)"
   ]
  },
  {
   "cell_type": "code",
   "execution_count": null,
   "metadata": {},
   "outputs": [],
   "source": [
    "# remove less important ventilator settings to simplify the table\n",
    "\n",
    "vent_settings_selected = {}\n",
    "for recording in recordings:\n",
    "    vent_settings_selected[recording] = vent_settings_cleaner(vent_settings[recording])"
   ]
  },
  {
   "cell_type": "code",
   "execution_count": null,
   "metadata": {},
   "outputs": [],
   "source": [
    "# Create a another dictionary of Dataframes wit some of the ventilation settings (set VT, set RR, set Pmax)\n",
    "\n",
    "lsts = [(['VT_weight'], ['VTi', 'VThf']), (['RR_set'], ['RR']), (['Pmax'], ['Pmax', 'Ampl hf max'])]\n",
    "vent_settings_2 = {}\n",
    "                                                            \n",
    "for recording in recordings:\n",
    "    frmes = []                                                       \n",
    "    for name, pars in lsts:\n",
    "        if pars in [['VTi', 'VThf']]:\n",
    "            ind = []\n",
    "            val = []\n",
    "            for index, row in vent_settings_selected[recording].iterrows():\n",
    "                if row['Id'] in pars:\n",
    "                    ind.append(index)\n",
    "                    val.append(row['Value New'] / current_weights[recording])\n",
    "                frmes.append(DataFrame(val, index = ind, columns = name))\n",
    "        else:\n",
    "            ind = []\n",
    "            val = []\n",
    "            for index, row in vent_settings_selected[recording].iterrows():\n",
    "                if row['Id'] in pars:\n",
    "                    ind.append(index)\n",
    "                    val.append(row['Value New'])\n",
    "                frmes.append(DataFrame(val, index = ind, columns = name))\n",
    "    vent_settings_2[recording] = pd.concat(frmes, sort = False)\n",
    "    vent_settings_2[recording].drop_duplicates(inplace = True)"
   ]
  },
  {
   "cell_type": "markdown",
   "metadata": {},
   "source": [
    "##### Import ventilation modes"
   ]
  },
  {
   "cell_type": "code",
   "execution_count": null,
   "metadata": {},
   "outputs": [],
   "source": [
    "vent_modes = {}\n",
    "\n",
    "for recording in recordings:\n",
    "    flist = os.listdir('%s/%s' % (DIR_READ, recording))\n",
    "    flist = [file for file in flist if not file.startswith('.')] # There are some hidden \n",
    "    # files on the hard drive starting with '.'; this step is necessary to ignore them\n",
    "    files = slow_text_finder(flist)\n",
    "    # print('Loading recording %s' % recording)\n",
    "    # print(files)\n",
    "    fnames = ['%s/%s/%s' % (DIR_READ, recording, filename) for filename in files]\n",
    "    vent_modes[recording] =  data_loader(fnames)"
   ]
  },
  {
   "cell_type": "code",
   "execution_count": null,
   "metadata": {},
   "outputs": [],
   "source": [
    "# remove less important ventilator mode settings to simplify the table\n",
    "\n",
    "vent_modes_selected = {}\n",
    "for recording in recordings:\n",
    "    vent_modes_selected[recording] = vent_mode_cleaner(vent_modes[recording])"
   ]
  },
  {
   "cell_type": "markdown",
   "metadata": {},
   "source": [
    "### Import alarm settings"
   ]
  },
  {
   "cell_type": "code",
   "execution_count": null,
   "metadata": {},
   "outputs": [],
   "source": [
    "alarm_settings = {}\n",
    "\n",
    "for recording in recordings:\n",
    "    flist = os.listdir('%s/%s' % (DIR_READ, recording))\n",
    "    flist = [file for file in flist if not file.startswith('.')] # There are some hidden \n",
    "    # files on the hard drive starting with '.'; this step is necessary to ignore them\n",
    "    files = alarm_setting_finder(flist)\n",
    "    # print('Loading recording %s' % recording)\n",
    "    # print(files)\n",
    "    fnames = ['%s/%s/%s' % (DIR_READ, recording, filename) for filename in files]\n",
    "    alarm_settings[recording] =  data_loader(fnames)"
   ]
  },
  {
   "cell_type": "code",
   "execution_count": null,
   "metadata": {},
   "outputs": [],
   "source": [
    "# Remove etCO2 limits which were not used\n",
    "\n",
    "alarm_settings_selected = {}\n",
    "\n",
    "for recording in recordings:\n",
    "    alarm_settings_selected[recording] = alarm_setting_cleaner(alarm_settings[recording])"
   ]
  },
  {
   "cell_type": "code",
   "execution_count": null,
   "metadata": {},
   "outputs": [],
   "source": [
    "# Create a another dictionary of Dataframes with some of the alarm settings \n",
    "\n",
    "lsts = [(['MV_high_weight'], ['MVe_HL']), (['MV_low_weight'], ['MVe_LL']), \n",
    "        (['PIP_high'], ['PIP_HL']), (['RR_high'], ['RR_HL'])]\n",
    "alarm_settings_2 = {}\n",
    "                                                            \n",
    "for recording in recordings:\n",
    "    frmes = []                                                       \n",
    "    for name, pars in lsts:\n",
    "        if pars in [['MVe_HL'], ['MVe_LL']]:\n",
    "            ind = []\n",
    "            val = []\n",
    "            for index, row in alarm_settings_selected[recording].iterrows():\n",
    "                if row['Id'] in pars:\n",
    "                    ind.append(index)\n",
    "                    val.append(row['Value New'] / current_weights[recording])\n",
    "                frmes.append(DataFrame(val, index = ind, columns = name))\n",
    "        else:\n",
    "            ind = []\n",
    "            val = []\n",
    "            for index, row in alarm_settings_selected[recording].iterrows():\n",
    "                if row['Id'] in pars:\n",
    "                    ind.append(index)\n",
    "                    val.append(row['Value New'])\n",
    "                frmes.append(DataFrame(val, index = ind, columns = name))\n",
    "    alarm_settings_2[recording] = pd.concat(frmes, sort = False)\n",
    "    alarm_settings_2[recording].drop_duplicates(inplace = True)"
   ]
  },
  {
   "cell_type": "markdown",
   "metadata": {},
   "source": [
    "### Import alarm states"
   ]
  },
  {
   "cell_type": "code",
   "execution_count": null,
   "metadata": {},
   "outputs": [],
   "source": [
    "alarm_states = {}\n",
    "\n",
    "for recording in recordings:\n",
    "    flist = os.listdir('%s/%s' % (DIR_READ, recording))\n",
    "    flist = [file for file in flist if not file.startswith('.')] # There are some hidden \n",
    "    # files on the hard drive starting with '.'; this step is necessary to ignore them\n",
    "    files = alarm_state_finder(flist)\n",
    "    # print('Loading recording %s' % recording)\n",
    "    # print(files)\n",
    "    fnames = ['%s/%s/%s' % (DIR_READ, recording, filename) for filename in files]\n",
    "    alarm_states[recording] =  data_loader(fnames)"
   ]
  },
  {
   "cell_type": "markdown",
   "metadata": {},
   "source": [
    "### Generate alarm events from alarm states"
   ]
  },
  {
   "cell_type": "code",
   "execution_count": null,
   "metadata": {},
   "outputs": [],
   "source": [
    "# Define function to retrieve alarm events from alarm timing data\n",
    "def alarm_events_calculator(dframe, al):\n",
    "    \n",
    "    '''\n",
    "    DataFrame, str -> DataFrame\n",
    "    \n",
    "    dframe: DataFrame containing alarm states\n",
    "    al:  alarm category (string)\n",
    "    \n",
    "    Returns a pd.DataFrame object with the time stamps when the alarm went off and the duration (in seconds)\n",
    "    of the alarm for alarm 'al' in recording 'rec'\n",
    "    '''\n",
    "    \n",
    "    alarms = dframe\n",
    "    alarm = alarms[alarms.Name == al]\n",
    "    length = len(alarm)\n",
    "    delta = np.array([(alarm.Date_Time[i] - alarm.Date_Time[i-1]).total_seconds() \n",
    "            for i in range(1, length) if alarm['State New'][i] == 'NotActive' and alarm['State New'][i-1] == 'Active'])\n",
    "    stamp = np.array([alarm.index[i-1] \n",
    "            for i in range(1, length) if alarm['State New'][i] == 'NotActive' and alarm['State New'][i-1] == 'Active'])\n",
    "    data = {'duration_seconds': delta, 'time_went_off': stamp,}\n",
    "    alarm_t = DataFrame(data, columns = ['time_went_off', 'duration_seconds'])\n",
    "    return alarm_t"
   ]
  },
  {
   "cell_type": "markdown",
   "metadata": {},
   "source": [
    "Using the files containing the alarm states, for each **alarm category** in **each recording** create a DataFrame with the **timestamps** the alarm went off and the **duration** of the alarm and store them in a dictionary of dictionaries "
   ]
  },
  {
   "cell_type": "code",
   "execution_count": null,
   "metadata": {},
   "outputs": [],
   "source": [
    "# Create a list of alarms occurring during each recording\n",
    "\n",
    "alarm_list = {}\n",
    "\n",
    "for recording in recordings:\n",
    "    alarm_list[recording] = sorted(set(alarm_states[recording].Name))"
   ]
  },
  {
   "cell_type": "code",
   "execution_count": null,
   "metadata": {},
   "outputs": [],
   "source": [
    "alarm_events = {}\n",
    "\n",
    "for recording in recordings:\n",
    "    alarm_events[recording] = {}\n",
    "    for alarm in alarm_list[recording]:\n",
    "        alarm_events[recording][alarm] = alarm_events_calculator(alarm_states[recording], alarm) "
   ]
  },
  {
   "cell_type": "markdown",
   "metadata": {},
   "source": [
    "### Calculate descriptive statistics for each alarm in each recording and write them to file"
   ]
  },
  {
   "cell_type": "code",
   "execution_count": null,
   "metadata": {},
   "outputs": [],
   "source": [
    "def alarm_stats_calculator(dframe, rec, al):\n",
    "    '''\n",
    "    dframe: DataFrame containing alarm events \n",
    "    rec: recording (string)\n",
    "    al: alarm (string)\n",
    "    \n",
    "    Returns detailed statistics about a particular alarm (al) in a particular recording (rec);\n",
    "    - number of times alarm went off and its value normalized to 24 hour periods\n",
    "    - mean, median, standard deviation, mean absolute deviation, minimum, 25th centile, 75th centile, maximum\n",
    "    time period when the alarm was off\n",
    "    - the total amount of time the alarm was off and its relative value in percent as the total recording time \n",
    "    '''\n",
    "    alarm = dframe[al].duration_seconds\n",
    "    return  (alarm.size, round((alarm.size / (recording_duration_hours[rec] / 24)), 1), \n",
    "            round(alarm.mean() , 1), round(alarm.median(), 1), round(alarm.std(), 1), round(alarm.min() , 1), \n",
    "            round(alarm.quantile(0.25), 1), round(alarm.quantile(0.75), 1), round(alarm.max(), 1),\n",
    "            round(alarm.sum(), 1), round(alarm.sum() * 100 / recording_duration_seconds[rec] ,3))"
   ]
  },
  {
   "cell_type": "code",
   "execution_count": null,
   "metadata": {},
   "outputs": [],
   "source": [
    "alarm_stats = {}\n",
    "\n",
    "for recording in recordings:\n",
    "    alarm_stats[recording] = {}\n",
    "    for alarm in alarm_list[recording]:\n",
    "        data = alarm_stats_calculator(alarm_events[recording], recording, alarm)\n",
    "        frame = DataFrame([data], columns = ['number of events', 'number of event per 24h', \n",
    "                                             'mean duration (s)', 'median duration (s)', 'SD duration (s)', \n",
    "                                             'miminum duration (s)', \n",
    "                                             'duration 25th centile (s)', 'duration 75th centile (s)', \n",
    "                                             'maximum duration (s)', 'cumulative duration (s)', \n",
    "                                             'percentage of recording length (%)'], index = [alarm])\n",
    "        alarm_stats[recording][alarm] = frame"
   ]
  },
  {
   "cell_type": "code",
   "execution_count": null,
   "metadata": {},
   "outputs": [],
   "source": [
    "stats_all = {}\n",
    "\n",
    "for recording in recordings:\n",
    "    stats = []\n",
    "    for alarm in alarm_stats[recording]:\n",
    "        stats.append(alarm_stats[recording][alarm])\n",
    "    stats_all[recording] = pd.concat(stats)  "
   ]
  },
  {
   "cell_type": "code",
   "execution_count": null,
   "metadata": {},
   "outputs": [],
   "source": [
    "# Write descriptive statistics in a multisheet Excel file\n",
    "\n",
    "writer = pd.ExcelWriter('%s/%s' % (DIR_WRITE, 'alarm_stats.xlsx'))\n",
    "\n",
    "\n",
    "for recording in recordings:\n",
    "    stats_all[recording].to_excel(writer, recording)\n",
    "writer.save()"
   ]
  },
  {
   "cell_type": "markdown",
   "metadata": {},
   "source": [
    "### Visualise alarm statistics for the individual alarms in the individual recording"
   ]
  },
  {
   "cell_type": "code",
   "execution_count": null,
   "metadata": {},
   "outputs": [],
   "source": [
    "# Generates a plot with the cumulative times (in seconds) of the various alarm occurring during recording (rec).\n",
    "# Displays the plot\n",
    "\n",
    "def alarm_plot_1(rec, write = True, show = True, dpi = 300, filetype = 'jpg'):\n",
    "    fig = plt.figure()\n",
    "    fig.set_size_inches(12, 4)\n",
    "    fig.subplots_adjust(left=None, bottom=None, right=None, top=None, wspace=None, hspace=0.7)\n",
    "    ax1 = fig.add_subplot(1, 1, 1)\n",
    "    xs = [i + 0.1 for i, _ in enumerate(alarm_list[rec])]\n",
    "    stats = []\n",
    "    for alarm in alarm_list[rec]:\n",
    "        stats.append(alarm_stats[rec][alarm]['cumulative duration (s)'])\n",
    "    stats_all = pd.concat(stats)\n",
    "    plt.barh(xs, stats_all, color = 'red')\n",
    "    plt.xlabel(\"seconds\", fontsize  = 12)\n",
    "    #plt.title(\"Recording %s : How long was the alarm active over the %d seconds of recording?\" % (rec, \n",
    "                #recording_duration_seconds[rec]), fontsize = 12)\n",
    "    plt.yticks([i + 0.5 for i, _ in enumerate(alarm_list[rec])], alarm_list[rec], fontsize = 12)\n",
    "    plt.xticks(fontsize = 12)\n",
    "    \n",
    "    if write:\n",
    "        fig.savefig('%s/%s_%s.jpg' % (DIR_WRITE, 'alarm_durations_1', rec), dpi=dpi, facecolor='w', edgecolor='w',\n",
    "        orientation='portrait', papertype=None, format=filetype,\n",
    "        transparent=False, bbox_inches='tight', pad_inches=0.1)\n",
    "        \n",
    "    if not show:\n",
    "        plt.close()"
   ]
  },
  {
   "cell_type": "code",
   "execution_count": null,
   "metadata": {
    "scrolled": false
   },
   "outputs": [],
   "source": [
    "alarm_plot_1('DG030')"
   ]
  },
  {
   "cell_type": "code",
   "execution_count": null,
   "metadata": {
    "scrolled": false
   },
   "outputs": [],
   "source": [
    "alarm_plot_1('DG035')"
   ]
  },
  {
   "cell_type": "code",
   "execution_count": null,
   "metadata": {
    "scrolled": false
   },
   "outputs": [],
   "source": [
    "alarm_plot_1('DG044')"
   ]
  },
  {
   "cell_type": "code",
   "execution_count": null,
   "metadata": {},
   "outputs": [],
   "source": [
    "# Generates a plot with the cumulative times (expressed as percentage of the total recording time) \n",
    "# of the various alarm occurring during recording (rec).\n",
    "# Displays the plot\n",
    "\n",
    "def alarm_plot_2(rec, write = True, show = True, dpi = 300, filetype = 'jpg'):\n",
    "    fig = plt.figure()\n",
    "    fig.set_size_inches(12, 4)\n",
    "    fig.subplots_adjust(left=None, bottom=None, right=None, top=None, wspace=None, hspace=0.7)\n",
    "    ax1 = fig.add_subplot(1, 1, 1)\n",
    "    xs = [i + 0.1 for i, _ in enumerate(alarm_list[rec])]\n",
    "    stats = []\n",
    "    for alarm in alarm_list[rec]:\n",
    "        stats.append(alarm_stats[rec][alarm]['percentage of recording length (%)'])\n",
    "    stats_all = pd.concat(stats)\n",
    "    plt.barh(xs, stats_all, color = 'red')\n",
    "    plt.xlabel(\"% of total recording time\", fontsize  = 12)\n",
    "    #plt.title(\"Recording %s: How long the alarm active over the %s hours of recording?\" % (rec, \n",
    "      #      str(recording_duration[rec])), fontsize = 12)\n",
    "    plt.yticks([i + 0.5 for i, _ in enumerate(alarm_list[rec])], alarm_list[rec], fontsize = 12)\n",
    "    plt.xticks(fontsize = 12)\n",
    "    \n",
    "    if write:\n",
    "        fig.savefig('%s/%s_%s.jpg' % (DIR_WRITE, 'alarm_durations_2', rec), dpi=dpi, facecolor='w', edgecolor='w',\n",
    "        orientation='portrait', papertype=None, format=filetype,\n",
    "        transparent=False, bbox_inches='tight', pad_inches=0.1)\n",
    "        \n",
    "    if not show:\n",
    "        plt.close()"
   ]
  },
  {
   "cell_type": "code",
   "execution_count": null,
   "metadata": {},
   "outputs": [],
   "source": [
    "alarm_plot_2('DG030')"
   ]
  },
  {
   "cell_type": "code",
   "execution_count": null,
   "metadata": {},
   "outputs": [],
   "source": [
    "alarm_plot_2('DG035')"
   ]
  },
  {
   "cell_type": "code",
   "execution_count": null,
   "metadata": {},
   "outputs": [],
   "source": [
    "alarm_plot_2('DG044')"
   ]
  },
  {
   "cell_type": "code",
   "execution_count": null,
   "metadata": {},
   "outputs": [],
   "source": [
    "# Displays the individual alarm events of the recording (rec) along the time axis\n",
    "# Displays the plot\n",
    "\n",
    "def alarm_plot_3(rec, write = True, show = True, dpi = 300, filetype = 'jpg'):\n",
    "    alarm_state = alarm_states[rec]\n",
    "    numbered = Series(np.zeros(len(alarm_state)), index = alarm_state.index)\n",
    "    for i in range(1, len(alarm_state)):\n",
    "        if alarm_state.iloc[i]['State New'] == 'Active':\n",
    "            numbered[i] = alarm_list[rec].index(alarm_state.iloc[i]['Id']) + 1\n",
    "    \n",
    "    fig = plt.figure()\n",
    "    fig.set_size_inches(12, 4)\n",
    "    fig.subplots_adjust(left=None, bottom=None, right=None, top=None, wspace=None, hspace=0.7)\n",
    "    ax1 = fig.add_subplot(1, 1, 1);\n",
    "\n",
    "    ax1.plot(alarm_state.index,  numbered, '|', color = 'red', markersize = 16, markeredgewidth = 1,)\n",
    "    plt.xlabel(\"Time\", fontsize  = 12)\n",
    "   # plt.title(\"Alarm events during recording %s\" % rec , fontsize = 12)\n",
    "    plt.yticks([i+1  for i, _ in enumerate(alarm_list[rec])], alarm_list[rec], fontsize = 12);\n",
    "    plt.xticks(fontsize = 12, rotation = 0)\n",
    "    plt.ylim(0.5, len(alarm_list[rec]) + 0.5)\n",
    "    \n",
    "    majorFmt = dates.DateFormatter('%H:%M')  \n",
    "    ax1.xaxis.set_major_formatter(majorFmt)\n",
    "    plt.setp(ax1.xaxis.get_majorticklabels(), rotation=0, fontsize = 12, horizontalalignment = 'center')\n",
    "    \n",
    "    if write:\n",
    "        fig.savefig('%s/%s_%s.jpg' % (DIR_WRITE, 'alarm_durations_3', rec), dpi=dpi, facecolor='w', edgecolor='w',\n",
    "        orientation='portrait', papertype=None, format=filetype,\n",
    "        transparent=False, bbox_inches='tight', pad_inches=0.1)\n",
    "        \n",
    "    if not show:\n",
    "        plt.close()"
   ]
  },
  {
   "cell_type": "markdown",
   "metadata": {},
   "source": [
    "##### Example plots"
   ]
  },
  {
   "cell_type": "code",
   "execution_count": null,
   "metadata": {
    "scrolled": false
   },
   "outputs": [],
   "source": [
    "alarm_plot_3('DG030')"
   ]
  },
  {
   "cell_type": "code",
   "execution_count": null,
   "metadata": {
    "scrolled": false
   },
   "outputs": [],
   "source": [
    "alarm_plot_3('DG035')"
   ]
  },
  {
   "cell_type": "code",
   "execution_count": null,
   "metadata": {
    "scrolled": false
   },
   "outputs": [],
   "source": [
    "alarm_plot_3('DG044')"
   ]
  },
  {
   "cell_type": "markdown",
   "metadata": {},
   "source": [
    "### Investigate the relationship of MV and RR parameter readings, ventilation settings and alarm settings"
   ]
  },
  {
   "cell_type": "code",
   "execution_count": null,
   "metadata": {},
   "outputs": [],
   "source": [
    "for recording in recordings:\n",
    "    slow_measurements[recording] = pd.concat([slow_measurements[recording],\n",
    "            vent_settings_2[recording], alarm_settings_2[recording]], axis = 0, join = 'outer', sort = False)\n",
    "    slow_measurements[recording].sort_index(inplace = True)"
   ]
  },
  {
   "cell_type": "code",
   "execution_count": null,
   "metadata": {},
   "outputs": [],
   "source": [
    "for recording in recordings:\n",
    "    slow_measurements[recording] = slow_measurements[recording].fillna(method = 'pad')"
   ]
  },
  {
   "cell_type": "code",
   "execution_count": null,
   "metadata": {},
   "outputs": [],
   "source": [
    "def minute_volume_plotter(rec, ylim = False, write = True, show = True, dpi = 300, filetype = 'jpg'):\n",
    "    '''\n",
    "    Plots the total minute volumme (using the data obtained with 1/sec sampling rate) \n",
    "    together with the \"MV low\" and \"MV high\" alarm limits\n",
    "    Displays the plot\n",
    "    \n",
    "    '''\n",
    "    if ylim:\n",
    "        ymax =  ylim\n",
    "    else:\n",
    "        ymax = slow_measurements[rec]['MV_high_weight'].max() + 0.3\n",
    "    \n",
    "    fig = plt.figure()\n",
    "    fig.set_size_inches(12, 4)\n",
    "    fig.subplots_adjust(left=None, bottom=None, right=None, top=None, wspace=None, hspace=0.7)\n",
    "    ax1 = fig.add_subplot(1, 1, 1);\n",
    "    \n",
    "    slow_measurements[rec]['MV_kg'].plot(ax = ax1, color = 'blue', ylim = [0, ymax], x_compat = True );\n",
    "    slow_measurements[rec]['MV_low_weight'].plot(ax = ax1, color = 'green', linewidth = 3, ylim = [0, ymax], \n",
    "                                                 x_compat = True);\n",
    "    slow_measurements[rec]['MV_high_weight'].plot(ax = ax1, color = 'red', linewidth = 3, ylim = [0, ymax], \n",
    "                                                  x_compat = True );\n",
    "    \n",
    "    #ax1.set_title('Minute volume - %s' % rec, size = 12, color = 'black')\n",
    "    ax1.set_xlabel('Time', size = 12, color = 'black')\n",
    "    ax1.set_ylabel('L/min/kg', size = 12, color = 'black')\n",
    "    ax1.grid('on', linestyle='-', linewidth=0.5, color = 'gray')\n",
    "    ax1.legend(['MV', 'low alarm limit', 'high alarm limit'], fontsize = 12, ncol  = 3)\n",
    "    \n",
    "    majorFmt = dates.DateFormatter('%H:%M')  \n",
    "    ax1.xaxis.set_major_formatter(majorFmt)\n",
    "    plt.setp(ax1.xaxis.get_majorticklabels(), rotation=0, fontsize = 12, horizontalalignment = 'center')\n",
    "    \n",
    "    if write:\n",
    "        fig.savefig('%s/%s_%s.jpg' % (DIR_WRITE, rec, 'minute_volume_with_alarm_limit'), dpi=dpi, \n",
    "        format=filetype, bbox_inches='tight', pad_inches=0.1)\n",
    "        \n",
    "    if not show:\n",
    "        plt.close();"
   ]
  },
  {
   "cell_type": "code",
   "execution_count": null,
   "metadata": {},
   "outputs": [],
   "source": [
    "minute_volume_plotter('DG030')"
   ]
  },
  {
   "cell_type": "code",
   "execution_count": null,
   "metadata": {},
   "outputs": [],
   "source": [
    "minute_volume_plotter('DG035')"
   ]
  },
  {
   "cell_type": "code",
   "execution_count": null,
   "metadata": {},
   "outputs": [],
   "source": [
    "minute_volume_plotter('DG044')"
   ]
  },
  {
   "cell_type": "code",
   "execution_count": null,
   "metadata": {},
   "outputs": [],
   "source": [
    "def resp_rate_plotter(rec, ylim = False, write = True, show = True, dpi = 300, filetype = 'jpg'):\n",
    "    '''\n",
    "    Plots the total reapiratory rate (using the data obtained with 1/sec sampling rate) \n",
    "    together with the set backup rate and \"RR high\" alarm limits\n",
    "    Displays the plot\n",
    "    \n",
    "    '''\n",
    "    if ylim:\n",
    "        ymax =  ylim\n",
    "    else:\n",
    "        ymax = slow_measurements[rec]['5001|RR [1/min]'].max() + 10\n",
    "    \n",
    "    fig = plt.figure()\n",
    "    fig.set_size_inches(12, 4)\n",
    "    fig.subplots_adjust(left=None, bottom=None, right=None, top=None,\n",
    "    wspace=None, hspace=0.7)\n",
    "    ax1 = fig.add_subplot(1, 1, 1);\n",
    "    \n",
    "    slow_measurements[rec]['5001|RR [1/min]'].plot(ax = ax1, color = 'blue', ylim = [0, ymax], x_compat = True);\n",
    "    slow_measurements[rec]['RR_high'].plot(ax = ax1, color = 'red', linewidth = 3, ylim = [0, ymax], x_compat = True );\n",
    "    slow_measurements[rec]['RR_set'].plot(ax = ax1, color = 'green', linewidth = 3, ylim = [0, ymax], x_compat = True );\n",
    "    \n",
    "    #ax1.set_title('Respiratory rate - %s' % rec, size = 12, color = 'black')\n",
    "    ax1.set_xlabel('Time', size = 12, color = 'black')\n",
    "    ax1.set_ylabel('breaths/min', size = 12, color = 'black')\n",
    "    ax1.grid('on', linestyle='-', linewidth=0.5, color = 'gray')\n",
    "    ax1.legend(['RR', 'high alarm limit', 'set RR'], fontsize = 12, ncol = 3)\n",
    "    \n",
    "    majorFmt = dates.DateFormatter('%H:%M')  \n",
    "    ax1.xaxis.set_major_formatter(majorFmt)\n",
    "    plt.setp(ax1.xaxis.get_majorticklabels(), rotation=0, fontsize = 12, horizontalalignment = 'center')\n",
    "    \n",
    "    if write:\n",
    "        fig.savefig('%s/%s_%s.jpg' % (DIR_WRITE, rec, 'resp_rate_with_alarm_limit'), dpi=dpi, \n",
    "        format=filetype, bbox_inches='tight', pad_inches=0.1)\n",
    "        \n",
    "    if not show:\n",
    "        plt.close();"
   ]
  },
  {
   "cell_type": "code",
   "execution_count": null,
   "metadata": {},
   "outputs": [],
   "source": [
    "resp_rate_plotter('DG030', ylim = 180)"
   ]
  },
  {
   "cell_type": "code",
   "execution_count": null,
   "metadata": {},
   "outputs": [],
   "source": [
    "resp_rate_plotter('DG035', ylim = 180)"
   ]
  },
  {
   "cell_type": "code",
   "execution_count": null,
   "metadata": {},
   "outputs": [],
   "source": [
    "resp_rate_plotter('DG044', ylim = 180)"
   ]
  },
  {
   "cell_type": "code",
   "execution_count": null,
   "metadata": {},
   "outputs": [],
   "source": [
    "def pressure_plotter(rec, ylim = False, write = True, show = True, dpi = 300, filetype = 'jpg'):\n",
    "    \n",
    "    if ylim:\n",
    "        ymax =  ylim\n",
    "    else:\n",
    "        ymax = slow_measurements[rec]['5001|PIP [mbar]'].max() + 10\n",
    "    \n",
    "    fig = plt.figure()\n",
    "    fig.set_size_inches(12, 4)\n",
    "    fig.subplots_adjust(left=None, bottom=0.2, right=None, top=None, wspace=None, hspace=None)\n",
    "    ax = fig.add_subplot(1, 1, 1)\n",
    "\n",
    "    slow_measurements[rec]['5001|PIP [mbar]'].plot(ax = ax, color = 'red', ylim = [0, ymax], x_compat = True,)\n",
    "    slow_measurements[rec]['Pmax'].plot(ax = ax, color = 'black', linewidth = 2, x_compat = True )\n",
    "    \n",
    "    # If you want to highlight sub-periods on the graphs, uncomment these lines and \n",
    "    # insert date and time in the correct format\n",
    "    \n",
    "    #ax.axvline(pd.to_datetime('2015-10-19 22:00:00'), color='black', linestyle='dashed', lw=2)\n",
    "    #ax.axvline(pd.to_datetime('2015-10-19 23:00:00'), color='black', linestyle='dashed', lw=2)\n",
    "    #ax.text(pd.to_datetime('2015-10-19 22:15:00'), 105, '1', fontsize = 14)\n",
    "    \n",
    "    #ax.axvline(pd.to_datetime('2015-10-20 17:00:00'), color='black', linestyle='dashed', lw=2)\n",
    "    #ax.axvline(pd.to_datetime('2015-10-20 18:00:00'), color='black', linestyle='dashed', lw=2)\n",
    "    #ax.text(pd.to_datetime('2015-10-20 17:15:00'), 105, '2', fontsize = 14)\n",
    "\n",
    "    ax.set_ylim(bottom=0)\n",
    "    #ax.set_ylim(0, 50)\n",
    "    ax.set_xlabel('Time (hours)', size = 12, color = 'black')\n",
    "    ax.set_ylabel('mbar', size = 12, color = 'black')\n",
    "    ax.set_title('',  size = 12, color = 'black')\n",
    "    ax.legend(['PIP', 'Pmax', ], ncol = 2, fontsize = 12,)\n",
    "    ax.grid('on', linestyle='-', linewidth=0.5, color = 'gray')\n",
    "    \n",
    "    majorFmt = dates.DateFormatter('%H:%M')  \n",
    "    ax.xaxis.set_major_formatter(majorFmt)\n",
    "    plt.setp(ax.xaxis.get_majorticklabels(), rotation=0, fontsize = 12, horizontalalignment = 'center')\n",
    "    \n",
    "    if write:\n",
    "        fig.savefig('%s/%s_%s.jpg' % (DIR_WRITE, rec, 'PIP_Pmax'), dpi=dpi, \n",
    "        format=filetype, bbox_inches='tight', pad_inches=0.1)\n",
    "        \n",
    "    if not show:\n",
    "        plt.close();"
   ]
  },
  {
   "cell_type": "code",
   "execution_count": null,
   "metadata": {
    "scrolled": true
   },
   "outputs": [],
   "source": [
    "pressure_plotter('DG030')"
   ]
  },
  {
   "cell_type": "code",
   "execution_count": null,
   "metadata": {
    "scrolled": true
   },
   "outputs": [],
   "source": [
    "pressure_plotter('DG035', ylim = 50)"
   ]
  },
  {
   "cell_type": "code",
   "execution_count": null,
   "metadata": {
    "scrolled": true
   },
   "outputs": [],
   "source": [
    "pressure_plotter('DG044')"
   ]
  },
  {
   "cell_type": "code",
   "execution_count": null,
   "metadata": {},
   "outputs": [],
   "source": [
    "def volume_plotter(rec, ylim = False, write = True, show = True, dpi = 300, filetype = 'jpg'):\n",
    "\n",
    "    if ylim:\n",
    "        ymax =  ylim\n",
    "    else:\n",
    "        ymax = slow_measurements[rec]['VTmand_kg'].max() + 10\n",
    "    \n",
    "    fig = plt.figure()\n",
    "    fig.set_size_inches(12, 4)\n",
    "    fig.subplots_adjust(left=None, bottom=0.2, right=None, top=None, wspace=None, hspace=None)\n",
    "    ax = fig.add_subplot(1, 1, 1)\n",
    "\n",
    "    slow_measurements[rec]['VTmand_kg'].plot(ax = ax, color = 'blue', ylim = [0, ymax], x_compat = True,)\n",
    "    slow_measurements[rec]['VT_weight'].plot(ax = ax, color = 'black', linewidth = 2, x_compat = True )\n",
    "    \n",
    "    # If you want to highlight sub-periods on the graphs, uncomment these lines and \n",
    "    # insert date and time in the correct format\n",
    "    \n",
    "    #ax.axvline(pd.to_datetime('2015-10-19 22:00:00'), color='black', linestyle='dashed', lw=2)\n",
    "    #ax.axvline(pd.to_datetime('2015-10-19 23:00:00'), color='black', linestyle='dashed', lw=2)\n",
    "    #ax.text(pd.to_datetime('2015-10-19 22:15:00'), 105, '1', fontsize = 14)\n",
    "    \n",
    "    #ax.axvline(pd.to_datetime('2015-10-20 17:00:00'), color='black', linestyle='dashed', lw=2)\n",
    "    #ax.axvline(pd.to_datetime('2015-10-20 18:00:00'), color='black', linestyle='dashed', lw=2)\n",
    "    #ax.text(pd.to_datetime('2015-10-20 17:15:00'), 105, '2', fontsize = 14)\n",
    "\n",
    "    ax.set_ylim(bottom=0)\n",
    "    #ax.set_ylim(0, 50)\n",
    "    ax.set_xlabel('Time (hours)', size = 12, color = 'black')\n",
    "    ax.set_ylabel('mL/kg', size = 12, color = 'black')\n",
    "    ax.set_title('',  size = 12, color = 'black')\n",
    "    ax.legend(['VTe', 'VT target', ], ncol = 2, fontsize = 12,)\n",
    "    ax.grid('on', linestyle='-', linewidth=0.5, color = 'gray')\n",
    "    \n",
    "    majorFmt = dates.DateFormatter('%H:%M')  \n",
    "    ax.xaxis.set_major_formatter(majorFmt)\n",
    "    plt.setp(ax.xaxis.get_majorticklabels(), rotation=0, fontsize = 12, horizontalalignment = 'center')\n",
    "    \n",
    "    if write:\n",
    "        fig.savefig('%s/%s_%s.jpg' % (DIR_WRITE, rec, 'VT_VTset'), dpi=dpi, \n",
    "        format=filetype, bbox_inches='tight', pad_inches=0.1)\n",
    "        \n",
    "    if not show:\n",
    "        plt.close();"
   ]
  },
  {
   "cell_type": "code",
   "execution_count": null,
   "metadata": {
    "scrolled": true
   },
   "outputs": [],
   "source": [
    "volume_plotter('DG030', ylim = 20)"
   ]
  },
  {
   "cell_type": "code",
   "execution_count": null,
   "metadata": {
    "scrolled": true
   },
   "outputs": [],
   "source": [
    "volume_plotter('DG035', ylim = 20)"
   ]
  },
  {
   "cell_type": "code",
   "execution_count": null,
   "metadata": {
    "scrolled": true
   },
   "outputs": [],
   "source": [
    "volume_plotter('DG044', ylim = 25)"
   ]
  },
  {
   "cell_type": "markdown",
   "metadata": {
    "collapsed": true
   },
   "source": [
    "## Create the tables and figures of the paper"
   ]
  },
  {
   "cell_type": "markdown",
   "metadata": {},
   "source": [
    "### Figure 1"
   ]
  },
  {
   "cell_type": "markdown",
   "metadata": {},
   "source": [
    "#### Figure 1A"
   ]
  },
  {
   "cell_type": "code",
   "execution_count": null,
   "metadata": {
    "scrolled": false
   },
   "outputs": [],
   "source": [
    "dpi = 300\n",
    "filetype = 'jpg'\n",
    "\n",
    "fig = plt.figure()\n",
    "fig.set_size_inches(12, 4)\n",
    "fig.subplots_adjust(left=None, bottom=0.2, right=None, top=None, wspace=None, hspace=None)\n",
    "ax = fig.add_subplot(1, 1, 1)\n",
    "\n",
    "slow_measurements['DG035']['2016-04-19 06:00:00':]['5001|PIP [mbar]'].plot(ax = ax, \n",
    "                                                            color = 'red', x_compat = True,)\n",
    "slow_measurements['DG035']['2016-04-19 06:00:00':]['Pmax'].plot(ax = ax, \n",
    "                                                           color = 'black', linewidth = 2, x_compat = True )\n",
    "ax.set_ylim(0, 50)\n",
    "ax.set_xlabel('Time', size = 12, color = 'black')\n",
    "ax.set_ylabel('mbar', size = 12, color = 'black')\n",
    "ax.set_title('',  size = 12, color = 'black')\n",
    "ax.legend(['PIP', 'Pmax', ], ncol = 2, fontsize = 12,)\n",
    "#ax.grid('on', linestyle='-', linewidth=0.5, color = 'gray')\n",
    "\n",
    "majorFmt = dates.DateFormatter('%H:%M')  \n",
    "ax.xaxis.set_major_formatter(majorFmt)\n",
    "plt.setp(ax.xaxis.get_majorticklabels(), rotation=0, fontsize = 12, horizontalalignment = 'center')\n",
    "    \n",
    "fig.savefig('%s/%s.%s' % (DIR_WRITE, 'Figure_1A', filetype), dpi=dpi, format= filetype, \n",
    "            bbox_inches='tight', pad_inches=0.1);"
   ]
  },
  {
   "cell_type": "markdown",
   "metadata": {},
   "source": [
    "#### Figure 1B"
   ]
  },
  {
   "cell_type": "code",
   "execution_count": null,
   "metadata": {},
   "outputs": [],
   "source": [
    "dpi = 300\n",
    "filetype = 'jpg'\n",
    "\n",
    "alarm_state = alarm_states['DG035']\n",
    "numbered = Series(np.zeros(len(alarm_state)), index = alarm_state.index)\n",
    "for i in range(1, len(alarm_state)):\n",
    "    if alarm_state.iloc[i]['State New'] == 'Active':\n",
    "        numbered[i] = alarm_list['DG035'].index(alarm_state.iloc[i]['Id']) + 1\n",
    "\n",
    "numbered = numbered['2016-04-19 06:00:00':]\n",
    "\n",
    "fig = plt.figure()\n",
    "fig.set_size_inches(12, 4)\n",
    "fig.subplots_adjust(left=None, bottom=None, right=None, top=None, wspace=None, hspace=0.7)\n",
    "ax1 = fig.add_subplot(1, 1, 1);\n",
    "\n",
    "ax1.plot(numbered.index,  numbered, '|', color = 'red', markersize = 16, markeredgewidth = 1,)\n",
    "plt.xlabel(\"Time\", fontsize  = 12)\n",
    "plt.yticks([i+1  for i, _ in enumerate(alarm_list['DG035'])], alarm_list['DG035'], fontsize = 12);\n",
    "plt.xticks(fontsize = 12, rotation = 0)\n",
    "plt.ylim(0.5, len(alarm_list['DG035']) + 0.5)\n",
    "    \n",
    "majorFmt = dates.DateFormatter('%H:%M')  \n",
    "ax1.xaxis.set_major_formatter(majorFmt)\n",
    "plt.setp(ax1.xaxis.get_majorticklabels(), rotation=0, fontsize = 12, horizontalalignment = 'center')\n",
    "\n",
    "fig.savefig('%s/%s.%s' % (DIR_WRITE, 'Figure_1B', filetype), dpi=dpi, format= filetype, \n",
    "            bbox_inches='tight', pad_inches=0.1);"
   ]
  },
  {
   "cell_type": "markdown",
   "metadata": {},
   "source": [
    "#### Figure 1 color"
   ]
  },
  {
   "cell_type": "code",
   "execution_count": null,
   "metadata": {
    "scrolled": false
   },
   "outputs": [],
   "source": [
    "dpi = 200\n",
    "filetype = 'tiff'\n",
    "\n",
    "fig = plt.figure()\n",
    "fig.set_size_inches(12, 9)\n",
    "fig.subplots_adjust(left=None, bottom=0.2, right=None, top=None, wspace=None, hspace=0.2)\n",
    "\n",
    "# Figure 1A\n",
    "\n",
    "ax = fig.add_subplot(2, 1, 1)\n",
    "\n",
    "slow_measurements['DG035']['2016-04-19 06:00:00':]['5001|PIP [mbar]'].plot(ax = ax, \n",
    "                                                    color = 'red', x_compat = True,)\n",
    "slow_measurements['DG035']['2016-04-19 06:00:00':]['Pmax'].plot(ax = ax, \n",
    "                                                    color = 'black', linewidth = 2, x_compat = True )\n",
    "ax.set_ylim(0, 50)\n",
    "ax.set_xlabel('', size = 12, color = 'black')\n",
    "ax.set_ylabel('mbar', size = 12, color = 'black')\n",
    "ax.set_title('',  size = 12, color = 'black')\n",
    "ax.legend(['PIP', 'Pmax', ], ncol = 2, fontsize = 12,)\n",
    "#ax.grid('on', linestyle='-', linewidth=0.5, color = 'gray')\n",
    "\n",
    "majorFmt = dates.DateFormatter('%H:%M')  \n",
    "ax.xaxis.set_major_formatter(majorFmt)\n",
    "plt.setp(ax.xaxis.get_majorticklabels(), rotation=0, fontsize = 12, horizontalalignment = 'center')\n",
    "    \n",
    "\n",
    "# Figure 1B\n",
    "\n",
    "alarm_state = alarm_states['DG035']\n",
    "numbered = Series(np.zeros(len(alarm_state)), index = alarm_state.index)\n",
    "for i in range(1, len(alarm_state)):\n",
    "    if alarm_state.iloc[i]['State New'] == 'Active':\n",
    "        numbered[i] = alarm_list['DG035'].index(alarm_state.iloc[i]['Id']) + 1\n",
    "    \n",
    "numbered = numbered['2016-04-19 06:00:00':]\n",
    "    \n",
    "ax1 = fig.add_subplot(2, 1, 2);\n",
    "\n",
    "ax1.plot(numbered.index,  numbered, '|', color = 'red', markersize = 16, markeredgewidth = 1,)\n",
    "plt.xlabel(\"Time\", fontsize  = 12)\n",
    "plt.yticks([i+1  for i, _ in enumerate(alarm_list['DG035'])], alarm_list['DG035'], fontsize = 12);\n",
    "plt.xticks(fontsize = 12, rotation = 0)\n",
    "plt.ylim(0.5, len(alarm_list['DG035']) + 0.5)\n",
    "    \n",
    "majorFmt = dates.DateFormatter('%H:%M')  \n",
    "ax1.xaxis.set_major_formatter(majorFmt)\n",
    "plt.setp(ax1.xaxis.get_majorticklabels(), rotation=0, fontsize = 12, horizontalalignment = 'center')\n",
    "\n",
    "fig.text(0.0, 0.92, 'A', fontsize = 20) \n",
    "fig.text(0.0, 0.54, 'B', fontsize = 20)\n",
    "\n",
    "fig.savefig('%s/%s.%s' % (DIR_WRITE, 'Figure_1_col', filetype), dpi=dpi, format= filetype, \n",
    "            bbox_inches='tight', pad_inches=0.1);"
   ]
  },
  {
   "cell_type": "markdown",
   "metadata": {},
   "source": [
    "#### Figure 1 bw"
   ]
  },
  {
   "cell_type": "code",
   "execution_count": null,
   "metadata": {
    "scrolled": false
   },
   "outputs": [],
   "source": [
    "dpi = 200\n",
    "filetype = 'tiff'\n",
    "\n",
    "fig = plt.figure()\n",
    "fig.set_size_inches(12, 9)\n",
    "fig.subplots_adjust(left=None, bottom=0.2, right=None, top=None, wspace=None, hspace=0.2)\n",
    "\n",
    "# Figure 1A\n",
    "\n",
    "ax = fig.add_subplot(2, 1, 1)\n",
    "\n",
    "slow_measurements['DG035']['2016-04-19 06:00:00':]['5001|PIP [mbar]'].plot(ax = ax, \n",
    "                                        color = 'black', alpha = 0.5, x_compat = True,)\n",
    "slow_measurements['DG035']['2016-04-19 06:00:00':]['Pmax'].plot(ax = ax, \n",
    "                                        color = 'black', linewidth = 2, x_compat = True )\n",
    "ax.set_ylim(0, 50)\n",
    "ax.set_xlabel('', size = 12, color = 'black')\n",
    "ax.set_ylabel('mbar', size = 12, color = 'black')\n",
    "ax.set_title('',  size = 12, color = 'black')\n",
    "ax.legend(['PIP', 'Pmax', ], ncol = 2, fontsize = 12,)\n",
    "#ax.grid('on', linestyle='-', linewidth=0.5, color = 'gray')\n",
    "\n",
    "majorFmt = dates.DateFormatter('%H:%M')  \n",
    "ax.xaxis.set_major_formatter(majorFmt)\n",
    "plt.setp(ax.xaxis.get_majorticklabels(), rotation=0, fontsize = 12, horizontalalignment = 'center')\n",
    "    \n",
    "\n",
    "# Figure 1B\n",
    "\n",
    "alarm_state = alarm_states['DG035']\n",
    "numbered = Series(np.zeros(len(alarm_state)), index = alarm_state.index)\n",
    "for i in range(1, len(alarm_state)):\n",
    "    if alarm_state.iloc[i]['State New'] == 'Active':\n",
    "        numbered[i] = alarm_list['DG035'].index(alarm_state.iloc[i]['Id']) + 1\n",
    "    \n",
    "numbered = numbered['2016-04-19 06:00:00':]\n",
    "    \n",
    "ax1 = fig.add_subplot(2, 1, 2);\n",
    "\n",
    "ax1.plot(numbered.index,  numbered, '|', color = 'black', markersize = 16, markeredgewidth = 1,)\n",
    "plt.xlabel(\"Time\", fontsize  = 12)\n",
    "plt.yticks([i+1  for i, _ in enumerate(alarm_list['DG035'])], alarm_list['DG035'], fontsize = 12);\n",
    "plt.xticks(fontsize = 12, rotation = 0)\n",
    "plt.ylim(0.5, len(alarm_list['DG035']) + 0.5)\n",
    "    \n",
    "majorFmt = dates.DateFormatter('%H:%M')  \n",
    "ax1.xaxis.set_major_formatter(majorFmt)\n",
    "plt.setp(ax1.xaxis.get_majorticklabels(), rotation=0, fontsize = 12, horizontalalignment = 'center')\n",
    "\n",
    "fig.text(0.0, 0.92, 'A', fontsize = 20) \n",
    "fig.text(0.0, 0.54, 'B', fontsize = 20)\n",
    "\n",
    "fig.savefig('%s/%s.%s' % (DIR_WRITE, 'Figure_1_bw', filetype), dpi=dpi, format= filetype, \n",
    "            bbox_inches='tight', pad_inches=0.1);"
   ]
  },
  {
   "cell_type": "markdown",
   "metadata": {},
   "source": [
    "#### Figure 2A"
   ]
  },
  {
   "cell_type": "code",
   "execution_count": null,
   "metadata": {},
   "outputs": [],
   "source": [
    "dpi = 300\n",
    "filetype = 'tiff'\n",
    "\n",
    "fig = plt.figure()\n",
    "fig.set_size_inches(12, 4)\n",
    "fig.subplots_adjust(left=None, bottom=None, right=None, top=None, wspace=None, hspace=0.7)\n",
    "ax1 = fig.add_subplot(1, 1, 1);\n",
    "    \n",
    "slow_measurements['DG044']['MV_kg'].plot(ax = ax1, color = 'blue', x_compat = True )\n",
    "slow_measurements['DG044']['MV_low_weight'].plot(ax = ax1, color = 'green', linewidth = 3, x_compat = True)\n",
    "slow_measurements['DG044']['MV_high_weight'].plot(ax = ax1, color = 'red', linewidth = 3,  x_compat = True)\n",
    "\n",
    "ax1.set_ylim(0, 0.7)\n",
    "ax1.set_xlabel('Time', size = 12, color = 'black')\n",
    "ax1.set_ylabel('L/min/kg', size = 12, color = 'black')\n",
    "#ax1.grid('on', linestyle='-', linewidth=0.5, color = 'gray')\n",
    "ax1.legend(['MV', 'MV low alarm limit', 'MV high alarm limit'], fontsize = 12, ncol  = 3)\n",
    "    \n",
    "majorFmt = dates.DateFormatter('%H:%M')  \n",
    "ax1.xaxis.set_major_formatter(majorFmt)\n",
    "plt.setp(ax1.xaxis.get_majorticklabels(), rotation=0, fontsize = 12, horizontalalignment = 'center')\n",
    "\n",
    "fig.savefig('%s/%s.%s' % (DIR_WRITE, 'Figure_2A', filetype), dpi=dpi, format= filetype, \n",
    "            bbox_inches='tight', pad_inches=0.1);"
   ]
  },
  {
   "cell_type": "markdown",
   "metadata": {},
   "source": [
    "#### Figure 2B"
   ]
  },
  {
   "cell_type": "code",
   "execution_count": null,
   "metadata": {},
   "outputs": [],
   "source": [
    "dpi = 200\n",
    "filetype = 'tiff'\n",
    "\n",
    "fig = plt.figure()\n",
    "fig.set_size_inches(12, 4)\n",
    "fig.subplots_adjust(left=None, bottom=None, right=None, top=None,\n",
    "wspace=None, hspace=0.7)\n",
    "ax1 = fig.add_subplot(1, 1, 1);\n",
    "    \n",
    "slow_measurements['DG030']['5001|RR [1/min]'].plot(ax = ax1, \n",
    "                        color = 'blue',  x_compat = True);\n",
    "slow_measurements['DG030']['RR_high'].plot(ax = ax1, \n",
    "                        color = 'red', linewidth = 3, x_compat = True );\n",
    "slow_measurements['DG030']['RR_set'].plot(ax = ax1, \n",
    "                        color = 'green', linewidth = 3,  x_compat = True );\n",
    "\n",
    "ax1.set_ylim(0, 180)\n",
    "ax1.set_xlabel('Time', size = 12, color = 'black')\n",
    "ax1.set_ylabel('breaths/min', size = 12, color = 'black')\n",
    "#ax1.grid('on', linestyle='-', linewidth=0.5, color = 'gray')\n",
    "ax1.legend(['RR', 'RR high alarm limit', 'set RR'], fontsize = 12, ncol = 3)\n",
    "    \n",
    "majorFmt = dates.DateFormatter('%H:%M')  \n",
    "ax1.xaxis.set_major_formatter(majorFmt)\n",
    "plt.setp(ax1.xaxis.get_majorticklabels(), rotation=0, fontsize = 12, horizontalalignment = 'center')\n",
    "    \n",
    "fig.savefig('%s/%s.%s' % (DIR_WRITE, 'Figure_2B', filetype), dpi=dpi, format= filetype, \n",
    "            bbox_inches='tight', pad_inches=0.1);"
   ]
  },
  {
   "cell_type": "markdown",
   "metadata": {},
   "source": [
    "#### Figure 2 color"
   ]
  },
  {
   "cell_type": "code",
   "execution_count": null,
   "metadata": {},
   "outputs": [],
   "source": [
    "dpi = 200\n",
    "filetype = 'tiff'\n",
    "\n",
    "fig = plt.figure()\n",
    "fig.set_size_inches(12, 9)\n",
    "fig.subplots_adjust(left=None, bottom=0.2, right=None, top=None, wspace=None, hspace=0.2)\n",
    "\n",
    "# Figure 2A\n",
    "\n",
    "ax1 = fig.add_subplot(2, 1, 1);\n",
    "    \n",
    "slow_measurements['DG044']['MV_kg'].plot(ax = ax1, color = 'blue', x_compat = True )\n",
    "slow_measurements['DG044']['MV_low_weight'].plot(ax = ax1, color = 'green', linewidth = 3, x_compat = True)\n",
    "slow_measurements['DG044']['MV_high_weight'].plot(ax = ax1, color = 'red', linewidth = 3,  x_compat = True)\n",
    "\n",
    "ax1.set_ylim(0, 0.7)\n",
    "ax1.set_xlabel('', size = 12, color = 'black')\n",
    "ax1.set_ylabel('L/min/kg', size = 12, color = 'black')\n",
    "#ax1.grid('on', linestyle='-', linewidth=0.5, color = 'gray')\n",
    "ax1.legend(['MV', 'MV low alarm limit', 'MV high alarm limit'], fontsize = 12, ncol  = 3)\n",
    "    \n",
    "majorFmt = dates.DateFormatter('%H:%M')  \n",
    "ax1.xaxis.set_major_formatter(majorFmt)\n",
    "plt.setp(ax1.xaxis.get_majorticklabels(), rotation=0, fontsize = 12, horizontalalignment = 'center');\n",
    "    \n",
    "\n",
    "# Figure 2B\n",
    "\n",
    "ax2 = fig.add_subplot(2, 1, 2);\n",
    "    \n",
    "slow_measurements['DG030']['5001|RR [1/min]'].plot(ax = ax2, \n",
    "                        color = 'blue', x_compat = True);\n",
    "slow_measurements['DG030']['RR_high'].plot(ax = ax2, \n",
    "                        color = 'red', linewidth = 3, x_compat = True );\n",
    "slow_measurements['DG030']['RR_set'].plot(ax = ax2, \n",
    "                        color = 'green', linewidth = 3, x_compat = True );\n",
    "\n",
    "ax2.set_ylim(0, 180)\n",
    "ax2.set_xlabel('Time', size = 12, color = 'black')\n",
    "ax2.set_ylabel('breaths/min', size = 12, color = 'black')\n",
    "#ax2.grid('on', linestyle='-', linewidth=0.5, color = 'gray')\n",
    "ax2.legend(['RR', 'RR high alarm limit', 'set RR'], fontsize = 12, ncol = 3)\n",
    "    \n",
    "majorFmt = dates.DateFormatter('%H:%M')  \n",
    "ax2.xaxis.set_major_formatter(majorFmt)\n",
    "plt.setp(ax2.xaxis.get_majorticklabels(), rotation=0, fontsize = 12, horizontalalignment = 'center')\n",
    "\n",
    "fig.text(0.05, 0.92, 'A', fontsize = 20) \n",
    "fig.text(0.05, 0.54, 'B', fontsize = 20)\n",
    "\n",
    "fig.savefig('%s/%s.%s' % (DIR_WRITE, 'Figure_2_col', filetype), dpi=dpi, format= filetype, \n",
    "            bbox_inches='tight', pad_inches=0.1);"
   ]
  },
  {
   "cell_type": "code",
   "execution_count": null,
   "metadata": {},
   "outputs": [],
   "source": [
    "dpi = 200\n",
    "filetype = 'tiff'\n",
    "\n",
    "fig = plt.figure()\n",
    "fig.set_size_inches(12, 9)\n",
    "fig.subplots_adjust(left=None, bottom=0.2, right=None, top=None, wspace=None, hspace=0.2)\n",
    "\n",
    "# Figure 2A\n",
    "\n",
    "ax1 = fig.add_subplot(2, 1, 1);\n",
    "    \n",
    "slow_measurements['DG044']['MV_kg'].plot(ax = ax1, color = 'black', alpha = 0.6, x_compat = True )\n",
    "slow_measurements['DG044']['MV_low_weight'].plot(ax = ax1, \n",
    "                                    color = 'black', alpha = 0.3, linewidth = 3, x_compat = True)\n",
    "slow_measurements['DG044']['MV_high_weight'].plot(ax = ax1, \n",
    "                                    color = 'black', alpha = 0.9, linewidth = 3,  x_compat = True)\n",
    "\n",
    "ax1.set_ylim(0, 0.7)\n",
    "ax1.set_xlabel('', size = 12, color = 'black')\n",
    "ax1.set_ylabel('L/min/kg', size = 12, color = 'black')\n",
    "#ax1.grid('on', linestyle='-', linewidth=0.5, color = 'gray')\n",
    "ax1.legend(['MV', 'MV low alarm limit', 'MV high alarm limit'], fontsize = 12, ncol  = 3)\n",
    "    \n",
    "majorFmt = dates.DateFormatter('%H:%M')  \n",
    "ax1.xaxis.set_major_formatter(majorFmt)\n",
    "plt.setp(ax1.xaxis.get_majorticklabels(), rotation=0, fontsize = 12, horizontalalignment = 'center');\n",
    "    \n",
    "\n",
    "# Figure 2B\n",
    "\n",
    "ax2 = fig.add_subplot(2, 1, 2);\n",
    "    \n",
    "slow_measurements['DG030']['5001|RR [1/min]'].plot(ax = ax2, \n",
    "                        color = 'black', alpha = 0.6, x_compat = True);\n",
    "slow_measurements['DG030']['RR_high'].plot(ax = ax2, \n",
    "                        color = 'black', alpha = 0.9, linewidth = 3, x_compat = True );\n",
    "slow_measurements['DG030']['RR_set'].plot(ax = ax2, \n",
    "                        color = 'black', alpha = 0.3, linewidth = 3, x_compat = True );\n",
    "\n",
    "ax2.set_ylim(0, 180)\n",
    "ax2.set_xlabel('Time', size = 12, color = 'black')\n",
    "ax2.set_ylabel('breaths/min', size = 12, color = 'black')\n",
    "#ax2.grid('on', linestyle='-', linewidth=0.5, color = 'gray')\n",
    "ax2.legend(['RR', 'RR high alarm limit', 'set RR'], fontsize = 12, ncol = 3)\n",
    "    \n",
    "majorFmt = dates.DateFormatter('%H:%M')  \n",
    "ax2.xaxis.set_major_formatter(majorFmt)\n",
    "plt.setp(ax2.xaxis.get_majorticklabels(), rotation=0, fontsize = 12, horizontalalignment = 'center')\n",
    "\n",
    "fig.text(0.05, 0.92, 'A', fontsize = 20) \n",
    "fig.text(0.05, 0.54, 'B', fontsize = 20)\n",
    "\n",
    "fig.savefig('%s/%s.%s' % (DIR_WRITE, 'Figure_2_bw', filetype), dpi=dpi, format= filetype, \n",
    "            bbox_inches='tight', pad_inches=0.1);"
   ]
  },
  {
   "cell_type": "code",
   "execution_count": null,
   "metadata": {},
   "outputs": [],
   "source": []
  },
  {
   "cell_type": "code",
   "execution_count": null,
   "metadata": {},
   "outputs": [],
   "source": []
  }
 ],
 "metadata": {
  "anaconda-cloud": {},
  "kernelspec": {
   "display_name": "Python 3",
   "language": "python",
   "name": "python3"
  },
  "language_info": {
   "codemirror_mode": {
    "name": "ipython",
    "version": 3
   },
   "file_extension": ".py",
   "mimetype": "text/x-python",
   "name": "python",
   "nbconvert_exporter": "python",
   "pygments_lexer": "ipython3",
   "version": "3.7.4"
  }
 },
 "nbformat": 4,
 "nbformat_minor": 1
}
